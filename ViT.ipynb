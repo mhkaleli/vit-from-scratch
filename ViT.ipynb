{
  "cells": [
    {
      "cell_type": "markdown",
      "metadata": {
        "id": "xUKo7OitfL_w"
      },
      "source": [
        "# Understanding how ViT works"
      ]
    },
    {
      "cell_type": "markdown",
      "metadata": {
        "id": "a8A8EWEdfUMr"
      },
      "source": [
        "## Setup"
      ]
    },
    {
      "cell_type": "code",
      "execution_count": null,
      "metadata": {
        "colab": {
          "base_uri": "https://localhost:8080/"
        },
        "id": "OQ39zwmwA_Dg",
        "outputId": "b9e509de-2b09-4dd9-bbc7-63c575ef8b95"
      },
      "outputs": [
        {
          "name": "stdout",
          "output_type": "stream",
          "text": [
            "  Preparing metadata (setup.py) ... \u001b[?25l\u001b[?25hdone\n",
            "\u001b[2K   \u001b[90m━━━━━━━━━━━━━━━━━━━━━━━━━━━━━━━━━━━━━━━━\u001b[0m \u001b[32m44.8/44.8 kB\u001b[0m \u001b[31m1.7 MB/s\u001b[0m eta \u001b[36m0:00:00\u001b[0m\n",
            "\u001b[?25h  Building wheel for clip (setup.py) ... \u001b[?25l\u001b[?25hdone\n",
            "  Installing build dependencies ... \u001b[?25l\u001b[?25hdone\n",
            "  Getting requirements to build wheel ... \u001b[?25l\u001b[?25hdone\n",
            "  Preparing metadata (pyproject.toml) ... \u001b[?25l\u001b[?25hdone\n",
            "\u001b[2K   \u001b[90m━━━━━━━━━━━━━━━━━━━━━━━━━━━━━━━━━━━━━━━━\u001b[0m \u001b[32m3.0/3.0 MB\u001b[0m \u001b[31m28.0 MB/s\u001b[0m eta \u001b[36m0:00:00\u001b[0m\n",
            "\u001b[?25h  Building wheel for transformers (pyproject.toml) ... \u001b[?25l\u001b[?25hdone\n"
          ]
        }
      ],
      "source": [
        "!pip install -q wandb\n",
        "!pip install -q -U git+https://github.com/huggingface/transformers.git"
      ]
    },
    {
      "cell_type": "code",
      "execution_count": null,
      "metadata": {
        "colab": {
          "base_uri": "https://localhost:8080/"
        },
        "id": "Kghh1GQgBBY_",
        "outputId": "51e9128c-4ae1-482a-90c8-6f0933bbc7f3"
      },
      "outputs": [
        {
          "name": "stdout",
          "output_type": "stream",
          "text": [
            "Thu Oct 24 11:21:59 2024       \n",
            "+---------------------------------------------------------------------------------------+\n",
            "| NVIDIA-SMI 535.104.05             Driver Version: 535.104.05   CUDA Version: 12.2     |\n",
            "|-----------------------------------------+----------------------+----------------------+\n",
            "| GPU  Name                 Persistence-M | Bus-Id        Disp.A | Volatile Uncorr. ECC |\n",
            "| Fan  Temp   Perf          Pwr:Usage/Cap |         Memory-Usage | GPU-Util  Compute M. |\n",
            "|                                         |                      |               MIG M. |\n",
            "|=========================================+======================+======================|\n",
            "|   0  NVIDIA A100-SXM4-40GB          Off | 00000000:00:04.0 Off |                    0 |\n",
            "| N/A   32C    P0              43W / 400W |      2MiB / 40960MiB |      0%      Default |\n",
            "|                                         |                      |             Disabled |\n",
            "+-----------------------------------------+----------------------+----------------------+\n",
            "                                                                                         \n",
            "+---------------------------------------------------------------------------------------+\n",
            "| Processes:                                                                            |\n",
            "|  GPU   GI   CI        PID   Type   Process name                            GPU Memory |\n",
            "|        ID   ID                                                             Usage      |\n",
            "|=======================================================================================|\n",
            "|  No running processes found                                                           |\n",
            "+---------------------------------------------------------------------------------------+\n"
          ]
        }
      ],
      "source": [
        "!nvidia-smi"
      ]
    },
    {
      "cell_type": "code",
      "execution_count": null,
      "metadata": {
        "id": "BNclKjtDfV6j"
      },
      "outputs": [],
      "source": [
        "import os\n",
        "import matplotlib.pyplot as plt\n",
        "import numpy as np\n",
        "import math\n",
        "from tqdm import tqdm\n",
        "from typing import OrderedDict\n",
        "\n",
        "import torch\n",
        "import torch.nn as nn\n",
        "import torch.nn.functional as F\n",
        "import torchvision\n",
        "from torchvision.transforms import v2\n",
        "from torch.utils.data import Dataset, DataLoader\n",
        "from torchvision.datasets import CIFAR100\n",
        "\n",
        "from google.colab import userdata"
      ]
    },
    {
      "cell_type": "code",
      "execution_count": null,
      "metadata": {
        "id": "JTirJQmaQRn5"
      },
      "outputs": [],
      "source": [
        "torch.cuda.empty_cache()"
      ]
    },
    {
      "cell_type": "code",
      "execution_count": null,
      "metadata": {
        "id": "qIC72fAjppIH"
      },
      "outputs": [],
      "source": [
        "import warnings\n",
        "warnings.filterwarnings(\"ignore\")\n",
        "warnings.filterwarnings( \"ignore\", module = \"matplotlib\\..*\" )"
      ]
    },
    {
      "cell_type": "code",
      "execution_count": null,
      "metadata": {
        "id": "RcYihp5IBmE_"
      },
      "outputs": [],
      "source": [
        "os.environ[\"WANDB_API_KEY\"] = userdata.get('WANDB_API_KEY')"
      ]
    },
    {
      "cell_type": "code",
      "execution_count": null,
      "metadata": {
        "id": "b1vvdo9bBIoP"
      },
      "outputs": [],
      "source": [
        "# Set a seed for reproducibility\n",
        "\n",
        "def fix_torch_seed(seed=42):\n",
        "    torch.manual_seed(seed)\n",
        "    torch.cuda.manual_seed(seed)\n",
        "    torch.backends.cudnn.deterministic = True\n",
        "    torch.backends.cudnn.benchmark = False\n",
        "\n",
        "fix_torch_seed()"
      ]
    },
    {
      "cell_type": "code",
      "execution_count": null,
      "metadata": {
        "id": "hh_OyopnBJ6P"
      },
      "outputs": [],
      "source": [
        "device = torch.device(\"cuda\" if torch.cuda.is_available() else \"cpu\")"
      ]
    },
    {
      "cell_type": "code",
      "execution_count": null,
      "metadata": {
        "colab": {
          "base_uri": "https://localhost:8080/"
        },
        "id": "W9Ah7rkYBLVp",
        "outputId": "1c139f93-0662-4140-a100-96d8456368fa"
      },
      "outputs": [
        {
          "data": {
            "text/plain": [
              "device(type='cuda')"
            ]
          },
          "execution_count": 9,
          "metadata": {},
          "output_type": "execute_result"
        }
      ],
      "source": [
        "device"
      ]
    },
    {
      "cell_type": "markdown",
      "metadata": {
        "id": "DWmceQBo6A57"
      },
      "source": [
        "# Training a ViT from scratch on image classification"
      ]
    },
    {
      "cell_type": "markdown",
      "metadata": {
        "id": "eEKawYYL9eX5"
      },
      "source": [
        "## Load and preproc dataset"
      ]
    },
    {
      "cell_type": "markdown",
      "metadata": {
        "id": "oDAXE6lOItfi"
      },
      "source": [
        "PyTorch transform: https://pytorch.org/vision/stable/transforms.html\n",
        "\n",
        "DataLoader: https://pytorch.org/tutorials/beginner/data_loading_tutorial.html\n",
        "\n",
        "Useful example: https://www.learnpytorch.io/08_pytorch_paper_replicating/"
      ]
    },
    {
      "cell_type": "code",
      "execution_count": null,
      "metadata": {
        "id": "HPGtc8TpNaFp"
      },
      "outputs": [],
      "source": [
        "# apply transformation\n",
        "# use the openai processer as ref\n",
        "\n",
        "# https://github.com/openai/CLIP/blob/main/clip/clip.py#L81\n",
        "try:\n",
        "    from torchvision.transforms import InterpolationMode\n",
        "    BICUBIC = InterpolationMode.BICUBIC\n",
        "except ImportError:\n",
        "    BICUBIC = Image.BICUBIC\n",
        "\n",
        "transforms = v2.Compose([\n",
        "    v2.ToImage(),\n",
        "    v2.ToDtype(torch.float32, scale=True),\n",
        "    v2.Resize(size=224, interpolation=BICUBIC, max_size=None, antialias=True),\n",
        "    v2.CenterCrop(224),\n",
        "    v2.Normalize((0.48145466, 0.4578275, 0.40821073), (0.26862954, 0.26130258, 0.27577711))\n",
        "])"
      ]
    },
    {
      "cell_type": "code",
      "execution_count": null,
      "metadata": {
        "colab": {
          "base_uri": "https://localhost:8080/"
        },
        "id": "6WgrPbgs6FOx",
        "outputId": "0d5ef31c-bc31-44ff-b755-457aa21ef83d"
      },
      "outputs": [
        {
          "name": "stdout",
          "output_type": "stream",
          "text": [
            "Downloading https://www.cs.toronto.edu/~kriz/cifar-100-python.tar.gz to /root/.cache/cifar-100-python.tar.gz\n"
          ]
        },
        {
          "name": "stderr",
          "output_type": "stream",
          "text": [
            "100%|██████████| 169M/169M [00:01<00:00, 90.5MB/s]\n"
          ]
        },
        {
          "name": "stdout",
          "output_type": "stream",
          "text": [
            "Extracting /root/.cache/cifar-100-python.tar.gz to /root/.cache\n"
          ]
        }
      ],
      "source": [
        "# Load the dataset and apply transformation\n",
        "root = os.path.expanduser(\"~/.cache\")\n",
        "train = CIFAR100(root, download=True, train=True, transform=transforms)"
      ]
    },
    {
      "cell_type": "code",
      "execution_count": null,
      "metadata": {
        "colab": {
          "base_uri": "https://localhost:8080/"
        },
        "id": "GvCw8nueJOFQ",
        "outputId": "f68b2bed-b082-4b7a-a8b4-7ca0135fb76b"
      },
      "outputs": [
        {
          "name": "stdout",
          "output_type": "stream",
          "text": [
            "Original dataset size: 50000\n",
            "Sampled dataset size: 30000\n",
            "Training set size: 24000\n",
            "Validation set size: 6000\n"
          ]
        }
      ],
      "source": [
        "# Assuming train dataset is already loaded as shown in your code\n",
        "# Select 10,000 random samples\n",
        "num_samples = 30000\n",
        "total_samples = len(train)\n",
        "\n",
        "# Generate random indices for sampling\n",
        "random_indices = torch.randperm(total_samples)[:num_samples]\n",
        "subset_dataset = torch.utils.data.Subset(train, random_indices)\n",
        "\n",
        "# Calculate split sizes\n",
        "train_size = int(0.8 * num_samples)  # 80% for training\n",
        "test_size = num_samples - train_size   # 20% for testidation\n",
        "\n",
        "# Create the splits\n",
        "train_subset, test_subset = torch.utils.data.random_split(subset_dataset, [train_size, test_size])\n",
        "\n",
        "print(f\"Original dataset size: {total_samples}\")\n",
        "print(f\"Sampled dataset size: {len(subset_dataset)}\")\n",
        "print(f\"Training set size: {len(train_subset)}\")\n",
        "print(f\"Validation set size: {len(test_subset)}\")"
      ]
    },
    {
      "cell_type": "markdown",
      "metadata": {
        "id": "nWXrIhYLN3a1"
      },
      "source": [
        "OpenAI ViT processer\n",
        "\n",
        "```\n",
        "Compose(\n",
        "    Resize(size=224, interpolation=bicubic, max_size=None, antialias=True)\n",
        "    CenterCrop(size=(224, 224))\n",
        "    <function _convert_image_to_rgb at 0x7801d6a3d750>\n",
        "    ToTensor()\n",
        "    Normalize(mean=(0.48145466, 0.4578275, 0.40821073), std=(0.26862954, 0.26130258, 0.27577711))\n",
        ")\n",
        "```"
      ]
    },
    {
      "cell_type": "code",
      "execution_count": null,
      "metadata": {
        "colab": {
          "base_uri": "https://localhost:8080/"
        },
        "id": "iANs2VlVT0ri",
        "outputId": "6df55836-1ab3-417e-ddda-ed1c53892bdc"
      },
      "outputs": [
        {
          "data": {
            "text/plain": [
              "Compose(\n",
              "      ToImage()\n",
              "      ToDtype(scale=True)\n",
              "      Resize(size=[224], interpolation=InterpolationMode.BICUBIC, antialias=True)\n",
              "      CenterCrop(size=(224, 224))\n",
              "      Normalize(mean=[0.48145466, 0.4578275, 0.40821073], std=[0.26862954, 0.26130258, 0.27577711], inplace=False)\n",
              ")"
            ]
          },
          "execution_count": 15,
          "metadata": {},
          "output_type": "execute_result"
        }
      ],
      "source": [
        "transforms"
      ]
    },
    {
      "cell_type": "markdown",
      "metadata": {
        "id": "f8BYVlz2psOV"
      },
      "source": [
        "Note: a DataLoader returns a list[] containing the data and labels with shapes data (batch_size, C, H, W) and labels (batch_size)"
      ]
    },
    {
      "cell_type": "code",
      "execution_count": null,
      "metadata": {
        "colab": {
          "base_uri": "https://localhost:8080/"
        },
        "id": "N0kJd3TlqHna",
        "outputId": "3d39a8bf-1e17-4a11-cef3-480a7b71de1d"
      },
      "outputs": [
        {
          "name": "stdout",
          "output_type": "stream",
          "text": [
            "Number of patches (N) with image height (H=224), width (W=224) and patch size (P=16): 196\n"
          ]
        }
      ],
      "source": [
        "# original image shape x (C, H, W) --> C: channel H: height W: width\n",
        "## gets turned into a sequence of 2D patches x_p (N, (P^2 C)) --> P: patch resolution N: resulting number of patches\n",
        "## N is also the length of input sequence to the transformer\n",
        "## where N = HW / P^2\n",
        "## So x: (C, H, W) --> x_p: (N, (P^2 * C))\n",
        "## need to apply this to a single image as a starter\n",
        "# aim is to create a [196, 768] input tensor as per ViT paper\n",
        "\n",
        "# Create example values\n",
        "H = 224 # Height (\"The training resolution is 224.\")\n",
        "W = 224 # Width\n",
        "C = 3 # Channel\n",
        "P = 16 # Patch\n",
        "\n",
        "# Calculate N (number of patches)\n",
        "N = int((H * W) / P**2)\n",
        "print(f\"Number of patches (N) with image height (H={H}), width (W={W}) and patch size (P={P}): {N}\")"
      ]
    },
    {
      "cell_type": "markdown",
      "metadata": {
        "id": "X1FN4tp_u132"
      },
      "source": [
        "Image patches with CNNs per the original paper:\n",
        "\n",
        "Hybrid Architecture. As an alternative to raw image patches, the input sequence can be formed\n",
        "**from feature maps of a CNN (LeCun et al., 1989)**. In this hybrid model, the patch embedding\n",
        "projection E (Eq. 1) is applied to patches extracted from a CNN feature map. As a special case,\n",
        "the patches can have spatial size 1x1, which means that the input sequence is obtained by simply\n",
        "flattening the spatial dimensions of the feature map and projecting to the Transformer dimension.\n",
        "The classification input embedding and position embeddings are added as described above."
      ]
    },
    {
      "cell_type": "code",
      "execution_count": null,
      "metadata": {
        "colab": {
          "base_uri": "https://localhost:8080/"
        },
        "id": "owO_0OVD38C1",
        "outputId": "59f9ca0d-9454-42c3-8c00-e444e02f4a0e"
      },
      "outputs": [
        {
          "name": "stdout",
          "output_type": "stream",
          "text": [
            "Original image shape: torch.Size([1, 3, 224, 224]) --> [batch_size, channel, height, width]\n",
            "Conv2D output shape: torch.Size([1, 768, 1, 1]) --> [batch_size, hidden_size, feature_map_height, feature_map_width]\n",
            "Flatten output shape: torch.Size([1, 768, 1]) --> [batch_size, hidden_size, number_of_patches]\n",
            "Permuting the flatten tensor: torch.Size([1, 1, 768]) --> [batch_size, number_of_patches, hidden_size]\n"
          ]
        }
      ],
      "source": [
        "# patches with Conv2d layer example\n",
        "\n",
        "# where out_channels corresponds to the embedding dim that is to be passed to the Transformer encoder with kernel and stride size (16x16) to produce patches\n",
        "conv2d_layer = nn.Conv2d(in_channels=3,\n",
        "                         out_channels=768,\n",
        "                         kernel_size=N,\n",
        "                         stride=N,\n",
        "                         padding=0)\n",
        "\n",
        "flatten_layer = nn.Flatten(start_dim=2,\n",
        "                           end_dim=3) # multiplies (dim 2 feature_map_height * dim 3 feature_map_width)\n",
        "\n",
        "conv2d_layer_out = conv2d_layer(image.unsqueeze(0)) # add extra dim for batch_size\n",
        "flatten_out = flatten_layer(conv2d_layer_out)\n",
        "\n",
        "print(f\"Original image shape: {image.unsqueeze(0).shape} --> [batch_size, channel, height, width]\")\n",
        "print(f\"Conv2D output shape: {conv2d_layer_out.shape} --> [batch_size, hidden_size, feature_map_height, feature_map_width]\")\n",
        "print(f\"Flatten output shape: {flatten_out.shape} --> [batch_size, hidden_size, number_of_patches]\")\n",
        "print(f\"Permuting the flatten tensor: {torch.permute(flatten_out, (0, 2, 1)).size()} --> [batch_size, number_of_patches, hidden_size]\")"
      ]
    },
    {
      "cell_type": "markdown",
      "metadata": {
        "id": "g66Zf8Js9_-z"
      },
      "source": [
        "## ViT implementation"
      ]
    },
    {
      "cell_type": "markdown",
      "metadata": {
        "id": "ANpX5sBdFpOn"
      },
      "source": [
        "The model essentially contains the following modules:\n",
        "\n",
        "* Embedding layer\n",
        "\n",
        "* LayerNorm layers\n",
        "\n",
        "* Multi-head self-attention\n",
        "\n",
        "* MLP layers"
      ]
    },
    {
      "cell_type": "code",
      "execution_count": null,
      "metadata": {
        "id": "8sK-fx_B4Riy"
      },
      "outputs": [],
      "source": [
        "## hyperparameter configs\n",
        "from dataclasses import dataclass\n",
        "\n",
        "@dataclass\n",
        "class ViTConfig:\n",
        "  # model hyperparameters\n",
        "  # paper parameters (https://arxiv.org/abs/2010.11929) but we GPU-poor :(\n",
        "  hidden_size: int = 768 # image patch embedding dim\n",
        "  n_head: int = 6 # attention heads\n",
        "  n_layer: int = 6 # layers inside a ViT block\n",
        "  n_channels: int = 3 # number of channels for input images\n",
        "  n_patches: int = 196 # since we are using a patch size of 16, using (H * W) / P**2 n_patches = 196 + learnable token = 197\n",
        "  n_labels: int = 100 # number of labels in the dataset\n",
        "  mlp_size: int = 1536 # mlp module size\n",
        "  patch_size: int = 16 # kernal_size for CNN patching layer\n",
        "  bias: bool = True # linear layer bias config\n",
        "\n",
        "  # training config\n",
        "  batch_size: int = 32\n",
        "  dropout: int = 0.1\n",
        "  learning_rate: float = 3e-4\n",
        "  weight_decay: float = 0.1\n",
        "  epochs: int = 20\n",
        "\n",
        "# init config\n",
        "config = ViTConfig()"
      ]
    },
    {
      "cell_type": "code",
      "execution_count": null,
      "metadata": {
        "id": "QIj7XUSK9_UT"
      },
      "outputs": [],
      "source": [
        "class ViTPatchEmbedding(nn.Module):\n",
        "  def __init__(self, config):\n",
        "    super().__init__()\n",
        "\n",
        "    self.projection = nn.Conv2d(config.n_channels,\n",
        "                                config.hidden_size,\n",
        "                                kernel_size=config.patch_size,\n",
        "                                stride=config.patch_size)\n",
        "    self.flatten = nn.Flatten(start_dim=2, end_dim=3)\n",
        "    self.learnable_parameter = nn.Parameter(torch.randn(config.batch_size,\n",
        "                                                        1,\n",
        "                                                        config.hidden_size),\n",
        "                                            requires_grad=True)\n",
        "    self.pos_embedding = nn.Parameter(torch.randn(config.batch_size,\n",
        "                                                  config.n_patches + 1,\n",
        "                                                  config.hidden_size),\n",
        "                                      requires_grad=True)\n",
        "\n",
        "  def forward(self, x):\n",
        "    # (B, C, H, W) input tensor shape\n",
        "    image_resolution = x.shape[-1]\n",
        "    assert image_resolution % config.patch_size == 0, f\"Input image size must be divisible by patch size, image shape: {image_resolution}, patch size: {config.patch_size}\"\n",
        "    x = self.projection(x)\n",
        "    x = self.flatten(x)\n",
        "    x = torch.permute(x, (0, 2, 1))\n",
        "    x = torch.cat((self.learnable_parameter, x), dim=1)\n",
        "    x = x + self.pos_embedding\n",
        "    # (B, N, D) input tensor shape\n",
        "    return x\n",
        "\n",
        "class ViTAttention(nn.Module):\n",
        "  def __init__(self, config):\n",
        "    super().__init__()\n",
        "\n",
        "    self.query = nn.Linear(config.hidden_size, config.hidden_size, bias=config.bias)\n",
        "    self.key = nn.Linear(config.hidden_size, config.hidden_size, bias=config.bias)\n",
        "    self.value = nn.Linear(config.hidden_size, config.hidden_size, bias=config.bias)\n",
        "    self.dense = nn.Linear(config.hidden_size, config.hidden_size, bias=config.bias)\n",
        "    self.dropout = nn.Dropout(config.dropout, inplace=False)\n",
        "\n",
        "  def forward(self, x):\n",
        "    # linear projections of q k v\n",
        "    # (B, N, D)\n",
        "    q = self.query(x)\n",
        "    k = self.key(x)\n",
        "    v = self.value(x)\n",
        "\n",
        "    # compute attention\n",
        "    attention = (q @ k.transpose(-2, -1)) * (1.0 / math.sqrt(k.size(-1)))\n",
        "    attention = F.softmax(attention, dim=-1)\n",
        "    attention = self.dropout(attention)\n",
        "    z = attention @ v\n",
        "    z = self.dense(z)\n",
        "\n",
        "    return z\n",
        "\n",
        "class ViTMultiHeadSelfAttention(nn.Module):\n",
        "  def __init__(self, config):\n",
        "    super().__init__()\n",
        "\n",
        "    self.heads = nn.ModuleList([ViTAttention(config) for _ in range(config.n_head)])\n",
        "    self.c_proj = nn.Linear(config.hidden_size * config.n_head, config.hidden_size, bias=config.bias)\n",
        "\n",
        "  def forward(self, x):\n",
        "    # (B, N, D)\n",
        "    z = torch.cat([h(x) for h in self.heads], dim=-1) # (B, N, D * n_head)\n",
        "    z = self.c_proj(z) # (B, N, D)\n",
        "    return z\n",
        "\n",
        "class ViTLayer(nn.Module):\n",
        "  def __init__(self, config):\n",
        "    super().__init__()\n",
        "\n",
        "    self.layernorm_1 = nn.LayerNorm(config.hidden_size)\n",
        "    self.msa = ViTMultiHeadSelfAttention(config)\n",
        "\n",
        "    self.layernorm_2 = nn.LayerNorm(config.hidden_size)\n",
        "    self.mlp = nn.Sequential(OrderedDict([\n",
        "          ('linear1', nn.Linear(in_features=config.hidden_size,\n",
        "                                out_features=config.mlp_size,\n",
        "                                bias=config.bias)),\n",
        "          ('gelu', nn.GELU()),\n",
        "          ('dropout1', nn.Dropout(p=config.dropout)),\n",
        "          ('linear2',nn.Linear(in_features=config.mlp_size,\n",
        "                                out_features=config.hidden_size,\n",
        "                                bias=config.bias)),\n",
        "          ('dropout2', nn.Dropout(p=config.dropout))\n",
        "        ]))\n",
        "\n",
        "  def forward(self, x):\n",
        "    # (B, N, D)\n",
        "    x = x + self.msa(self.layernorm_1(x))\n",
        "    x = x + self.mlp(self.layernorm_2(x))\n",
        "    return x\n",
        "\n",
        "class ViT(nn.Module):\n",
        "  def __init__(self, config):\n",
        "    super().__init__()\n",
        "\n",
        "    self.patch_embedding = ViTPatchEmbedding(config)\n",
        "    self.transformer_encoder_layers = nn.ModuleList([ViTLayer(config) for _ in range(config.n_layer)])\n",
        "    self.layernorm = nn.LayerNorm(config.hidden_size)\n",
        "    self.classifier = nn.Linear(in_features=config.hidden_size,\n",
        "                                out_features=config.n_labels,\n",
        "                                bias=config.bias)\n",
        "\n",
        "  def forward(self, x):\n",
        "    # (B, C, H, W)\n",
        "    x = self.patch_embedding(x) # (B, N, D)\n",
        "    for layer in self.transformer_encoder_layers:\n",
        "      x = layer(x)\n",
        "    x = self.layernorm(x)\n",
        "    x = self.classifier(x[:, 0]) # get the classification logits\n",
        "\n",
        "    return x"
      ]
    },
    {
      "cell_type": "code",
      "execution_count": null,
      "metadata": {
        "colab": {
          "base_uri": "https://localhost:8080/"
        },
        "id": "oXKKj5daPYkQ",
        "outputId": "206c6164-1fc4-4cd8-93b8-013fe33f5e6f"
      },
      "outputs": [
        {
          "name": "stdout",
          "output_type": "stream",
          "text": [
            "126.0 M parameters\n"
          ]
        }
      ],
      "source": [
        "# define model\n",
        "vit = ViT(config).to(device)\n",
        "print(round(sum(p.numel() for p in vit.parameters())/1e6, 1), 'M parameters')"
      ]
    },
    {
      "cell_type": "code",
      "execution_count": null,
      "metadata": {
        "id": "sdvOOhYnRNQN"
      },
      "outputs": [],
      "source": [
        "# define optimizer\n",
        "optimizer = torch.optim.Adam(vit.parameters(), lr=config.learning_rate, weight_decay=config.weight_decay)\n",
        "# setup the loss function for multi-class classification\n",
        "loss_fn = torch.nn.CrossEntropyLoss()"
      ]
    },
    {
      "cell_type": "code",
      "execution_count": null,
      "metadata": {
        "colab": {
          "base_uri": "https://localhost:8080/"
        },
        "id": "raPvvzMtSFhZ",
        "outputId": "f2b5dba5-8ede-4fcf-df72-e73a8e0e20d5"
      },
      "outputs": [
        {
          "data": {
            "text/plain": [
              "(Adam (\n",
              " Parameter Group 0\n",
              "     amsgrad: False\n",
              "     betas: (0.9, 0.999)\n",
              "     capturable: False\n",
              "     differentiable: False\n",
              "     eps: 1e-08\n",
              "     foreach: None\n",
              "     fused: None\n",
              "     lr: 0.0003\n",
              "     maximize: False\n",
              "     weight_decay: 0.1\n",
              " ),\n",
              " CrossEntropyLoss())"
            ]
          },
          "execution_count": 17,
          "metadata": {},
          "output_type": "execute_result"
        }
      ],
      "source": [
        "optimizer, loss_fn"
      ]
    },
    {
      "cell_type": "markdown",
      "metadata": {
        "id": "7CKdbufrQa2k"
      },
      "source": [
        "## Training ViT"
      ]
    },
    {
      "cell_type": "markdown",
      "metadata": {
        "id": "x1CLmFdTXqtc"
      },
      "source": [
        "### Setup WANDB run"
      ]
    },
    {
      "cell_type": "code",
      "execution_count": null,
      "metadata": {
        "colab": {
          "base_uri": "https://localhost:8080/"
        },
        "id": "d7c-l4zedAid",
        "outputId": "8833f944-4a98-4d25-eb96-407857194f08"
      },
      "outputs": [],
      "source": [
        "!wandb login\n",
        "\n",
        "import wandb, os\n",
        "wandb.login()\n",
        "\n",
        "wandb_project = \"vit-from-scratch\"\n",
        "if len(wandb_project) > 0:\n",
        "    os.environ[\"WANDB_PROJECT\"] = wandb_project"
      ]
    },
    {
      "cell_type": "code",
      "execution_count": null,
      "metadata": {
        "colab": {
          "base_uri": "https://localhost:8080/"
        },
        "id": "ZFaeQ12jQDUT",
        "outputId": "ace7311a-f388-4e58-f385-10baf9ec242d"
      },
      "outputs": [
        {
          "name": "stdout",
          "output_type": "stream",
          "text": [
            "rm: cannot remove '/content/wandb': No such file or directory\n"
          ]
        }
      ],
      "source": [
        "!rm -r /content/wandb"
      ]
    },
    {
      "cell_type": "code",
      "execution_count": null,
      "metadata": {
        "colab": {
          "base_uri": "https://localhost:8080/",
          "height": 139
        },
        "id": "wP51C8HkVHCd",
        "outputId": "4adfdc84-469a-4e59-c076-cf75c484684e"
      },
      "outputs": [],
      "source": [
        "# init wandb\n",
        "\n",
        "# start a new wandb run to track this script\n",
        "run = wandb.init(\n",
        "    # set the wandb project where this run will be logged\n",
        "    project=\"vit-from-scratch\",\n",
        "    name=\"ViT-cifar100-v1-125m\", # change accoreding to run type\n",
        "\n",
        "    # track hyperparameters and run metadata\n",
        "    config={\n",
        "        \"hidden_size\": 768,\n",
        "        \"n_head\": 6,\n",
        "        \"n_layer\": 6,\n",
        "        \"n_channels\": 3,\n",
        "        \"n_patches\": 197,\n",
        "        \"n_labels\": 100,\n",
        "        \"mlp_size\": 1536,\n",
        "        \"patch_size\": 16,\n",
        "        \"bias\": True,\n",
        "        \"batch_size\": 4,\n",
        "        \"dropout\": 0.1,\n",
        "        \"learning_rate\": 3e-4,\n",
        "        \"weight_decay\": 0.1,\n",
        "        \"epoch\": 20,\n",
        "        \"training_data_size\": 24000\n",
        "    }\n",
        ")"
      ]
    },
    {
      "cell_type": "markdown",
      "metadata": {
        "id": "f4xFhWyKXwWr"
      },
      "source": [
        "### Define dataloaders"
      ]
    },
    {
      "cell_type": "code",
      "execution_count": null,
      "metadata": {
        "id": "j9UzonS3QaLj"
      },
      "outputs": [],
      "source": [
        "# define dataloaders\n",
        "train_dataloader = DataLoader(train_subset, batch_size=config.batch_size, shuffle=True)"
      ]
    },
    {
      "cell_type": "code",
      "execution_count": null,
      "metadata": {
        "colab": {
          "base_uri": "https://localhost:8080/"
        },
        "id": "FkNQQ99NLMFc",
        "outputId": "3d6c76c1-e548-426c-c5fe-6b56cf89d613"
      },
      "outputs": [
        {
          "name": "stdout",
          "output_type": "stream",
          "text": [
            "Epoch [1/20], Batch [500/750]\n",
            "Epoch [1/20] Average Loss: 4.667\n",
            "Epoch [2/20], Batch [500/750]\n",
            "Epoch [2/20] Average Loss: 4.638\n",
            "Epoch [3/20], Batch [500/750]\n",
            "Epoch [3/20] Average Loss: 4.620\n",
            "Epoch [4/20], Batch [500/750]\n",
            "Epoch [4/20] Average Loss: 4.611\n",
            "Epoch [5/20], Batch [500/750]\n",
            "Epoch [5/20] Average Loss: 4.607\n",
            "Epoch [6/20], Batch [500/750]\n",
            "Epoch [6/20] Average Loss: 4.605\n",
            "Epoch [7/20], Batch [500/750]\n",
            "Epoch [7/20] Average Loss: 4.605\n",
            "Epoch [8/20], Batch [500/750]\n",
            "Epoch [8/20] Average Loss: 4.605\n",
            "Epoch [9/20], Batch [500/750]\n",
            "Epoch [9/20] Average Loss: 4.605\n",
            "Epoch [10/20], Batch [500/750]\n",
            "Epoch [10/20] Average Loss: 4.605\n",
            "Epoch [11/20], Batch [500/750]\n",
            "Epoch [11/20] Average Loss: 4.605\n",
            "Epoch [12/20], Batch [500/750]\n",
            "Epoch [12/20] Average Loss: 4.605\n",
            "Epoch [13/20], Batch [500/750]\n",
            "Epoch [13/20] Average Loss: 4.605\n",
            "Epoch [14/20], Batch [500/750]\n",
            "Epoch [14/20] Average Loss: 4.605\n",
            "Epoch [15/20], Batch [500/750]\n",
            "Epoch [15/20] Average Loss: 4.605\n",
            "Epoch [16/20], Batch [500/750]\n",
            "Epoch [16/20] Average Loss: 4.605\n",
            "Epoch [17/20], Batch [500/750]\n",
            "Epoch [17/20] Average Loss: 4.605\n",
            "Epoch [18/20], Batch [500/750]\n",
            "Epoch [18/20] Average Loss: 4.605\n",
            "Epoch [19/20], Batch [500/750]\n",
            "Epoch [19/20] Average Loss: 4.605\n",
            "Epoch [20/20], Batch [500/750]\n",
            "Epoch [20/20] Average Loss: 4.605\n"
          ]
        }
      ],
      "source": [
        "for epoch in range(config.epochs):\n",
        "    running_loss = 0.0\n",
        "    num_batches = 0\n",
        "\n",
        "    for i, data in enumerate(train_dataloader, 0):\n",
        "        inputs, labels = data\n",
        "        inputs = inputs.to(device)\n",
        "        labels = labels.to(device)\n",
        "\n",
        "        # zero the parameter gradients\n",
        "        optimizer.zero_grad()\n",
        "\n",
        "        # compute loss\n",
        "        logits = vit(inputs)\n",
        "        loss = loss_fn(logits, labels)\n",
        "        loss.backward()\n",
        "        optimizer.step()\n",
        "\n",
        "        # accumulate loss\n",
        "        running_loss += loss.item()\n",
        "        num_batches += 1\n",
        "\n",
        "        # Log batch-level metrics\n",
        "        wandb.log({\n",
        "            \"batch_loss\": loss.item(),\n",
        "            \"batch\": i + epoch * len(train_dataloader)\n",
        "        })\n",
        "\n",
        "        # Optional: print batch progress\n",
        "        if (i + 1) % 500 == 0:  # Print every 500 batches\n",
        "            print(f'Epoch [{epoch + 1}/{config.epochs}], Batch [{i + 1}/{len(train_dataloader)}]')\n",
        "\n",
        "    # Calculate and log epoch-level statistics\n",
        "    epoch_loss = running_loss / num_batches\n",
        "    print(f'Epoch [{epoch + 1}/{config.epochs}] Average Loss: {epoch_loss:.3f}')\n",
        "\n",
        "    # Log epoch-level metrics\n",
        "    wandb.log({\n",
        "        \"epoch\": epoch + 1,\n",
        "        \"epoch_loss\": epoch_loss,\n",
        "        \"learning_rate\": optimizer.param_groups[0]['lr']\n",
        "    })"
      ]
    },
    {
      "cell_type": "code",
      "execution_count": null,
      "metadata": {
        "id": "Q2jyMRC3gNpO"
      },
      "outputs": [],
      "source": [
        "SAVE_MODEL_PATH = \"cifar100-v1-125m.pt\"\n",
        "torch.save(vit.state_dict(), SAVE_MODEL_PATH)"
      ]
    },
    {
      "cell_type": "code",
      "execution_count": null,
      "metadata": {
        "colab": {
          "base_uri": "https://localhost:8080/"
        },
        "id": "9vHckYDMgWo_",
        "outputId": "964236a4-f495-4f4a-fff0-cba9c5ab659e"
      },
      "outputs": [
        {
          "data": {
            "text/plain": [
              "<Artifact ViT-cifar100-v1-125m>"
            ]
          },
          "execution_count": 36,
          "metadata": {},
          "output_type": "execute_result"
        }
      ],
      "source": [
        "# upload artifact to wandb\n",
        "artifact = wandb.Artifact(\"ViT-cifar100-v1-125m\", type=\"model\")\n",
        "artifact.add_file(SAVE_MODEL_PATH)\n",
        "run.log_artifact(artifact)"
      ]
    },
    {
      "cell_type": "code",
      "execution_count": null,
      "metadata": {
        "colab": {
          "base_uri": "https://localhost:8080/",
          "height": 291,
          "referenced_widgets": [
            "3b027c790d554b148ffd0622de10e2b5",
            "2f734eab56094112b70b4cde8b426d5c",
            "8da1c851661f49a7ab5e67925e9b36f5",
            "82cb1e08f13641c88cdc348c1aa9a29e",
            "c29b7fd30e3c40788477d7c2bc7665be",
            "d8b25f97ff07450aa877f5ca5ab8bca0",
            "429cc4a2e49e412bb949bb018215897a",
            "1872d3b914294a71a40cad8fabe22ace"
          ]
        },
        "id": "ZYP2umljhpRb",
        "outputId": "1be2b508-3330-40d5-93c3-471210110b1d"
      },
      "outputs": [],
      "source": [
        "run.finish()"
      ]
    },
    {
      "cell_type": "markdown",
      "metadata": {
        "id": "WjnR9lpdhvGu"
      },
      "source": [
        "## Inference"
      ]
    },
    {
      "cell_type": "code",
      "execution_count": null,
      "metadata": {
        "id": "9DEsyK86jDEO"
      },
      "outputs": [],
      "source": [
        "test_dataloader = DataLoader(test_subset, batch_size=config.batch_size, shuffle=True)"
      ]
    },
    {
      "cell_type": "code",
      "execution_count": null,
      "metadata": {
        "id": "0ufPbHNejR8m"
      },
      "outputs": [],
      "source": [
        "def imshow(img):\n",
        "    img = img / 2 + 0.5     # unnormalize\n",
        "    npimg = img.numpy()\n",
        "    plt.imshow(np.transpose(npimg, (1, 2, 0)))\n",
        "    plt.show()"
      ]
    },
    {
      "cell_type": "code",
      "execution_count": null,
      "metadata": {
        "id": "sxiDO43KjY6B"
      },
      "outputs": [],
      "source": [
        "classes = tuple(train.classes)"
      ]
    },
    {
      "cell_type": "code",
      "execution_count": null,
      "metadata": {
        "colab": {
          "base_uri": "https://localhost:8080/"
        },
        "id": "0O2eqBKxjdrZ",
        "outputId": "e208088b-e125-4cfe-c109-85ffc1d2a9c9"
      },
      "outputs": [
        {
          "data": {
            "text/plain": [
              "100"
            ]
          },
          "execution_count": 40,
          "metadata": {},
          "output_type": "execute_result"
        }
      ],
      "source": [
        "len(classes)"
      ]
    },
    {
      "cell_type": "code",
      "execution_count": null,
      "metadata": {
        "colab": {
          "base_uri": "https://localhost:8080/",
          "height": 369
        },
        "id": "TDjFzWCuhxCe",
        "outputId": "875e7432-b7b3-43c3-f380-bfb8cbc41905"
      },
      "outputs": [
        {
          "name": "stderr",
          "output_type": "stream",
          "text": [
            "WARNING:matplotlib.image:Clipping input data to the valid range for imshow with RGB data ([0..1] for floats or [0..255] for integers).\n"
          ]
        },
        {
          "data": {
            "image/png": "[encoded data removed]",
            "text/plain": [
              "<Figure size 640x480 with 1 Axes>"
            ]
          },
          "metadata": {},
          "output_type": "display_data"
        },
        {
          "name": "stdout",
          "output_type": "stream",
          "text": [
            "GroundTruth:  cloud telephone leopard wolf  mouse lobster castle tank  caterpillar wolf  house lamp  leopard plain castle worm  plate shrew bear  kangaroo clock mushroom forest sweet_pepper plain beaver whale bicycle mouse tiger poppy tank \n"
          ]
        }
      ],
      "source": [
        "dataiter = iter(test_dataloader)\n",
        "images, labels = next(dataiter)\n",
        "\n",
        "# print images\n",
        "imshow(torchvision.utils.make_grid(images))\n",
        "print('GroundTruth: ', ' '.join(f'{classes[labels[j]]:5s}' for j in range(32)))"
      ]
    },
    {
      "cell_type": "code",
      "execution_count": null,
      "metadata": {
        "colab": {
          "base_uri": "https://localhost:8080/"
        },
        "id": "f9USBbOkhxEd",
        "outputId": "49b33478-7fcb-482d-973b-e88c8281e282"
      },
      "outputs": [
        {
          "name": "stdout",
          "output_type": "stream",
          "text": [
            "Image batch shape 16 is mismatched. Must be 64\n",
            "Accuracy of the network on the 2000 test images: 1 %\n"
          ]
        }
      ],
      "source": [
        "correct = 0\n",
        "total = 0\n",
        "# since we're not training, we don't need to calculate the gradients for our outputs\n",
        "with torch.no_grad():\n",
        "    for data in test_dataloader:\n",
        "        images, labels = data\n",
        "        images = images.to(device)\n",
        "        labels = labels.to(device)\n",
        "        # calculate outputs by running images through the network\n",
        "        if images.shape[0] != 32:\n",
        "          print(f\"Image batch shape {images.shape[0]} is mismatched. Must be 64\")\n",
        "          continue\n",
        "        outputs = vit(images)\n",
        "        outputs = F.softmax(outputs, dim=-1)\n",
        "        #print(outputs.data)\n",
        "        # the class with the highest energy is what we choose as prediction\n",
        "        _, predicted = torch.max(outputs, 1)\n",
        "        total += labels.size(0)\n",
        "        correct += (predicted == labels).sum().item()\n",
        "\n",
        "print(f'Accuracy of the network on the 2000 test images: {100 * correct // total} %')"
      ]
    },
    {
      "cell_type": "code",
      "execution_count": null,
      "metadata": {
        "colab": {
          "base_uri": "https://localhost:8080/"
        },
        "id": "GITvxqaHhxGt",
        "outputId": "41a332b0-3514-467a-bc8e-28e88bedf550"
      },
      "outputs": [
        {
          "name": "stdout",
          "output_type": "stream",
          "text": [
            "Image batch shape 16 is mismatched. Must be 64\n",
            "Accuracy for class: apple is 0.0 %\n",
            "Accuracy for class: aquarium_fish is 0.0 %\n",
            "Accuracy for class: baby  is 0.0 %\n",
            "Accuracy for class: bear  is 0.0 %\n",
            "Accuracy for class: beaver is 0.0 %\n",
            "Accuracy for class: bed   is 0.0 %\n",
            "Accuracy for class: bee   is 0.0 %\n",
            "Accuracy for class: beetle is 0.0 %\n",
            "Accuracy for class: bicycle is 0.0 %\n",
            "Accuracy for class: bottle is 0.0 %\n",
            "Accuracy for class: bowl  is 0.0 %\n",
            "Accuracy for class: boy   is 0.0 %\n",
            "Accuracy for class: bridge is 0.0 %\n",
            "Accuracy for class: bus   is 0.0 %\n",
            "Accuracy for class: butterfly is 0.0 %\n",
            "Accuracy for class: camel is 0.0 %\n",
            "Accuracy for class: can   is 0.0 %\n",
            "Accuracy for class: castle is 0.0 %\n",
            "Accuracy for class: caterpillar is 0.0 %\n",
            "Accuracy for class: cattle is 0.0 %\n",
            "Accuracy for class: chair is 0.0 %\n",
            "Accuracy for class: chimpanzee is 0.0 %\n",
            "Accuracy for class: clock is 0.0 %\n",
            "Accuracy for class: cloud is 0.0 %\n",
            "Accuracy for class: cockroach is 0.0 %\n",
            "Accuracy for class: couch is 0.0 %\n",
            "Accuracy for class: crab  is 0.0 %\n",
            "Accuracy for class: crocodile is 0.0 %\n",
            "Accuracy for class: cup   is 0.0 %\n",
            "Accuracy for class: dinosaur is 0.0 %\n",
            "Accuracy for class: dolphin is 0.0 %\n",
            "Accuracy for class: elephant is 0.0 %\n",
            "Accuracy for class: flatfish is 0.0 %\n",
            "Accuracy for class: forest is 0.0 %\n",
            "Accuracy for class: fox   is 0.0 %\n",
            "Accuracy for class: girl  is 0.0 %\n",
            "Accuracy for class: hamster is 0.0 %\n",
            "Accuracy for class: house is 0.0 %\n",
            "Accuracy for class: kangaroo is 0.0 %\n",
            "Accuracy for class: keyboard is 0.0 %\n",
            "Accuracy for class: lamp  is 0.0 %\n",
            "Accuracy for class: lawn_mower is 0.0 %\n",
            "Accuracy for class: leopard is 0.0 %\n",
            "Accuracy for class: lion  is 0.0 %\n",
            "Accuracy for class: lizard is 0.0 %\n",
            "Accuracy for class: lobster is 0.0 %\n",
            "Accuracy for class: man   is 0.0 %\n",
            "Accuracy for class: maple_tree is 0.0 %\n",
            "Accuracy for class: motorcycle is 0.0 %\n",
            "Accuracy for class: mountain is 0.0 %\n",
            "Accuracy for class: mouse is 0.0 %\n",
            "Accuracy for class: mushroom is 0.0 %\n",
            "Accuracy for class: oak_tree is 100.0 %\n",
            "Accuracy for class: orange is 0.0 %\n",
            "Accuracy for class: orchid is 0.0 %\n",
            "Accuracy for class: otter is 0.0 %\n",
            "Accuracy for class: palm_tree is 0.0 %\n",
            "Accuracy for class: pear  is 0.0 %\n",
            "Accuracy for class: pickup_truck is 0.0 %\n",
            "Accuracy for class: pine_tree is 0.0 %\n",
            "Accuracy for class: plain is 0.0 %\n",
            "Accuracy for class: plate is 0.0 %\n",
            "Accuracy for class: poppy is 0.0 %\n",
            "Accuracy for class: porcupine is 0.0 %\n",
            "Accuracy for class: possum is 0.0 %\n",
            "Accuracy for class: rabbit is 0.0 %\n",
            "Accuracy for class: raccoon is 0.0 %\n",
            "Accuracy for class: ray   is 0.0 %\n",
            "Accuracy for class: road  is 0.0 %\n",
            "Accuracy for class: rocket is 0.0 %\n",
            "Accuracy for class: rose  is 0.0 %\n",
            "Accuracy for class: sea   is 0.0 %\n",
            "Accuracy for class: seal  is 0.0 %\n",
            "Accuracy for class: shark is 0.0 %\n",
            "Accuracy for class: shrew is 0.0 %\n",
            "Accuracy for class: skunk is 0.0 %\n",
            "Accuracy for class: skyscraper is 0.0 %\n",
            "Accuracy for class: snail is 0.0 %\n",
            "Accuracy for class: snake is 0.0 %\n",
            "Accuracy for class: spider is 0.0 %\n",
            "Accuracy for class: squirrel is 0.0 %\n",
            "Accuracy for class: streetcar is 0.0 %\n",
            "Accuracy for class: sunflower is 0.0 %\n",
            "Accuracy for class: sweet_pepper is 0.0 %\n",
            "Accuracy for class: table is 0.0 %\n",
            "Accuracy for class: tank  is 0.0 %\n",
            "Accuracy for class: telephone is 0.0 %\n",
            "Accuracy for class: television is 0.0 %\n",
            "Accuracy for class: tiger is 0.0 %\n",
            "Accuracy for class: tractor is 0.0 %\n",
            "Accuracy for class: train is 0.0 %\n",
            "Accuracy for class: trout is 0.0 %\n",
            "Accuracy for class: tulip is 0.0 %\n",
            "Accuracy for class: turtle is 0.0 %\n",
            "Accuracy for class: wardrobe is 0.0 %\n",
            "Accuracy for class: whale is 0.0 %\n",
            "Accuracy for class: willow_tree is 0.0 %\n",
            "Accuracy for class: wolf  is 0.0 %\n",
            "Accuracy for class: woman is 0.0 %\n",
            "Accuracy for class: worm  is 0.0 %\n"
          ]
        }
      ],
      "source": [
        "# prepare to count predictions for each class\n",
        "correct_pred = {classname: 0 for classname in classes}\n",
        "total_pred = {classname: 0 for classname in classes}\n",
        "\n",
        "# again no gradients needed\n",
        "with torch.no_grad():\n",
        "    for data in test_dataloader:\n",
        "        images, labels = data\n",
        "        images = images.to(device)\n",
        "        labels = labels.to(device)\n",
        "        if images.shape[0] != 32:\n",
        "          print(f\"Image batch shape {images.shape[0]} is mismatched. Must be 64\")\n",
        "          continue\n",
        "        outputs = vit(images)\n",
        "        outputs = F.softmax(outputs, dim=-1)\n",
        "        _, predictions = torch.max(outputs, 1)\n",
        "        # collect the correct predictions for each class\n",
        "        for label, prediction in zip(labels, predictions):\n",
        "            if label == prediction:\n",
        "                correct_pred[classes[label]] += 1\n",
        "            total_pred[classes[label]] += 1\n",
        "\n",
        "\n",
        "# print accuracy for each class\n",
        "for classname, correct_count in correct_pred.items():\n",
        "    accuracy = 100 * float(correct_count) / total_pred[classname]\n",
        "    print(f'Accuracy for class: {classname:5s} is {accuracy:.1f} %')"
      ]
    },
    {
      "cell_type": "markdown",
      "metadata": {
        "id": "RAwvTV-mqFVm"
      },
      "source": [
        "As it is evident from the inference results This experiment still needs more work :)"
      ]
    }
  ],
  "metadata": {
    "accelerator": "GPU",
    "colab": {
      "collapsed_sections": [
        "bAqW1fSJZMzI",
        "62ZoTCpdZRYh"
      ],
      "gpuType": "A100",
      "machine_shape": "hm",
      "provenance": []
    },
    "kernelspec": {
      "display_name": "Python 3",
      "name": "python3"
    },
    "language_info": {
      "name": "python"
    },
    "widgets": {
      "application/vnd.jupyter.widget-state+json": {
        "00ad1659855549bb9ef11d41d03d168d": {
          "model_module": "@jupyter-widgets/controls",
          "model_module_version": "1.5.0",
          "model_name": "FloatProgressModel",
          "state": {
            "_dom_classes": [],
            "_model_module": "@jupyter-widgets/controls",
            "_model_module_version": "1.5.0",
            "_model_name": "FloatProgressModel",
            "_view_count": null,
            "_view_module": "@jupyter-widgets/controls",
            "_view_module_version": "1.5.0",
            "_view_name": "ProgressView",
            "bar_style": "success",
            "description": "",
            "description_tooltip": null,
            "layout": "IPY_MODEL_dd6921d47f044ea5a0becb2f5f4dfdb3",
            "max": 346293852,
            "min": 0,
            "orientation": "horizontal",
            "style": "IPY_MODEL_f922977295cd4253ac3c0c085e43f714",
            "value": 346293852
          }
        },
        "07a2e51c017e47f183f7618d5eb2bd0f": {
          "model_module": "@jupyter-widgets/base",
          "model_module_version": "1.2.0",
          "model_name": "LayoutModel",
          "state": {
            "_model_module": "@jupyter-widgets/base",
            "_model_module_version": "1.2.0",
            "_model_name": "LayoutModel",
            "_view_count": null,
            "_view_module": "@jupyter-widgets/base",
            "_view_module_version": "1.2.0",
            "_view_name": "LayoutView",
            "align_content": null,
            "align_items": null,
            "align_self": null,
            "border": null,
            "bottom": null,
            "display": null,
            "flex": null,
            "flex_flow": null,
            "grid_area": null,
            "grid_auto_columns": null,
            "grid_auto_flow": null,
            "grid_auto_rows": null,
            "grid_column": null,
            "grid_gap": null,
            "grid_row": null,
            "grid_template_areas": null,
            "grid_template_columns": null,
            "grid_template_rows": null,
            "height": null,
            "justify_content": null,
            "justify_items": null,
            "left": null,
            "margin": null,
            "max_height": null,
            "max_width": null,
            "min_height": null,
            "min_width": null,
            "object_fit": null,
            "object_position": null,
            "order": null,
            "overflow": null,
            "overflow_x": null,
            "overflow_y": null,
            "padding": null,
            "right": null,
            "top": null,
            "visibility": null,
            "width": null
          }
        },
        "07b7a08a897a4fcf93cf7987175c83ae": {
          "model_module": "@jupyter-widgets/controls",
          "model_module_version": "1.5.0",
          "model_name": "FloatProgressModel",
          "state": {
            "_dom_classes": [],
            "_model_module": "@jupyter-widgets/controls",
            "_model_module_version": "1.5.0",
            "_model_name": "FloatProgressModel",
            "_view_count": null,
            "_view_module": "@jupyter-widgets/controls",
            "_view_module_version": "1.5.0",
            "_view_name": "ProgressView",
            "bar_style": "success",
            "description": "",
            "description_tooltip": null,
            "layout": "IPY_MODEL_9d4041850e8541d896c474e8eabc18ee",
            "max": 69665,
            "min": 0,
            "orientation": "horizontal",
            "style": "IPY_MODEL_5f2874986a1e4cc1a1a2eb1431527400",
            "value": 69665
          }
        },
        "0ffd5ae2cd924f4cb0b2987c2d845c76": {
          "model_module": "@jupyter-widgets/base",
          "model_module_version": "1.2.0",
          "model_name": "LayoutModel",
          "state": {
            "_model_module": "@jupyter-widgets/base",
            "_model_module_version": "1.2.0",
            "_model_name": "LayoutModel",
            "_view_count": null,
            "_view_module": "@jupyter-widgets/base",
            "_view_module_version": "1.2.0",
            "_view_name": "LayoutView",
            "align_content": null,
            "align_items": null,
            "align_self": null,
            "border": null,
            "bottom": null,
            "display": null,
            "flex": null,
            "flex_flow": null,
            "grid_area": null,
            "grid_auto_columns": null,
            "grid_auto_flow": null,
            "grid_auto_rows": null,
            "grid_column": null,
            "grid_gap": null,
            "grid_row": null,
            "grid_template_areas": null,
            "grid_template_columns": null,
            "grid_template_rows": null,
            "height": null,
            "justify_content": null,
            "justify_items": null,
            "left": null,
            "margin": null,
            "max_height": null,
            "max_width": null,
            "min_height": null,
            "min_width": null,
            "object_fit": null,
            "object_position": null,
            "order": null,
            "overflow": null,
            "overflow_x": null,
            "overflow_y": null,
            "padding": null,
            "right": null,
            "top": null,
            "visibility": null,
            "width": null
          }
        },
        "11074fa6a34541469316161d97a7bd8c": {
          "model_module": "@jupyter-widgets/controls",
          "model_module_version": "1.5.0",
          "model_name": "HTMLModel",
          "state": {
            "_dom_classes": [],
            "_model_module": "@jupyter-widgets/controls",
            "_model_module_version": "1.5.0",
            "_model_name": "HTMLModel",
            "_view_count": null,
            "_view_module": "@jupyter-widgets/controls",
            "_view_module_version": "1.5.0",
            "_view_name": "HTMLView",
            "description": "",
            "description_tooltip": null,
            "layout": "IPY_MODEL_7901f7af022e4dbdab34a4a4a3bca2c5",
            "placeholder": "​",
            "style": "IPY_MODEL_de1a4f8253d84903810f34fa60ce3340",
            "value": "preprocessor_config.json: 100%"
          }
        },
        "1872d3b914294a71a40cad8fabe22ace": {
          "model_module": "@jupyter-widgets/controls",
          "model_module_version": "1.5.0",
          "model_name": "ProgressStyleModel",
          "state": {
            "_model_module": "@jupyter-widgets/controls",
            "_model_module_version": "1.5.0",
            "_model_name": "ProgressStyleModel",
            "_view_count": null,
            "_view_module": "@jupyter-widgets/base",
            "_view_module_version": "1.2.0",
            "_view_name": "StyleView",
            "bar_color": null,
            "description_width": ""
          }
        },
        "1e252f6ea9c341fba01a122424fb81f3": {
          "model_module": "@jupyter-widgets/base",
          "model_module_version": "1.2.0",
          "model_name": "LayoutModel",
          "state": {
            "_model_module": "@jupyter-widgets/base",
            "_model_module_version": "1.2.0",
            "_model_name": "LayoutModel",
            "_view_count": null,
            "_view_module": "@jupyter-widgets/base",
            "_view_module_version": "1.2.0",
            "_view_name": "LayoutView",
            "align_content": null,
            "align_items": null,
            "align_self": null,
            "border": null,
            "bottom": null,
            "display": null,
            "flex": null,
            "flex_flow": null,
            "grid_area": null,
            "grid_auto_columns": null,
            "grid_auto_flow": null,
            "grid_auto_rows": null,
            "grid_column": null,
            "grid_gap": null,
            "grid_row": null,
            "grid_template_areas": null,
            "grid_template_columns": null,
            "grid_template_rows": null,
            "height": null,
            "justify_content": null,
            "justify_items": null,
            "left": null,
            "margin": null,
            "max_height": null,
            "max_width": null,
            "min_height": null,
            "min_width": null,
            "object_fit": null,
            "object_position": null,
            "order": null,
            "overflow": null,
            "overflow_x": null,
            "overflow_y": null,
            "padding": null,
            "right": null,
            "top": null,
            "visibility": null,
            "width": null
          }
        },
        "2f734eab56094112b70b4cde8b426d5c": {
          "model_module": "@jupyter-widgets/controls",
          "model_module_version": "1.5.0",
          "model_name": "LabelModel",
          "state": {
            "_dom_classes": [],
            "_model_module": "@jupyter-widgets/controls",
            "_model_module_version": "1.5.0",
            "_model_name": "LabelModel",
            "_view_count": null,
            "_view_module": "@jupyter-widgets/controls",
            "_view_module_version": "1.5.0",
            "_view_name": "LabelView",
            "description": "",
            "description_tooltip": null,
            "layout": "IPY_MODEL_c29b7fd30e3c40788477d7c2bc7665be",
            "placeholder": "​",
            "style": "IPY_MODEL_d8b25f97ff07450aa877f5ca5ab8bca0",
            "value": "409.732 MB of 480.829 MB uploaded\r"
          }
        },
        "3b027c790d554b148ffd0622de10e2b5": {
          "model_module": "@jupyter-widgets/controls",
          "model_module_version": "1.5.0",
          "model_name": "VBoxModel",
          "state": {
            "_dom_classes": [],
            "_model_module": "@jupyter-widgets/controls",
            "_model_module_version": "1.5.0",
            "_model_name": "VBoxModel",
            "_view_count": null,
            "_view_module": "@jupyter-widgets/controls",
            "_view_module_version": "1.5.0",
            "_view_name": "VBoxView",
            "box_style": "",
            "children": [
              "IPY_MODEL_2f734eab56094112b70b4cde8b426d5c",
              "IPY_MODEL_8da1c851661f49a7ab5e67925e9b36f5"
            ],
            "layout": "IPY_MODEL_82cb1e08f13641c88cdc348c1aa9a29e"
          }
        },
        "3df29353e25345b4baf480c8e4778a86": {
          "model_module": "@jupyter-widgets/controls",
          "model_module_version": "1.5.0",
          "model_name": "DescriptionStyleModel",
          "state": {
            "_model_module": "@jupyter-widgets/controls",
            "_model_module_version": "1.5.0",
            "_model_name": "DescriptionStyleModel",
            "_view_count": null,
            "_view_module": "@jupyter-widgets/base",
            "_view_module_version": "1.2.0",
            "_view_name": "StyleView",
            "description_width": ""
          }
        },
        "429cc4a2e49e412bb949bb018215897a": {
          "model_module": "@jupyter-widgets/base",
          "model_module_version": "1.2.0",
          "model_name": "LayoutModel",
          "state": {
            "_model_module": "@jupyter-widgets/base",
            "_model_module_version": "1.2.0",
            "_model_name": "LayoutModel",
            "_view_count": null,
            "_view_module": "@jupyter-widgets/base",
            "_view_module_version": "1.2.0",
            "_view_name": "LayoutView",
            "align_content": null,
            "align_items": null,
            "align_self": null,
            "border": null,
            "bottom": null,
            "display": null,
            "flex": null,
            "flex_flow": null,
            "grid_area": null,
            "grid_auto_columns": null,
            "grid_auto_flow": null,
            "grid_auto_rows": null,
            "grid_column": null,
            "grid_gap": null,
            "grid_row": null,
            "grid_template_areas": null,
            "grid_template_columns": null,
            "grid_template_rows": null,
            "height": null,
            "justify_content": null,
            "justify_items": null,
            "left": null,
            "margin": null,
            "max_height": null,
            "max_width": null,
            "min_height": null,
            "min_width": null,
            "object_fit": null,
            "object_position": null,
            "order": null,
            "overflow": null,
            "overflow_x": null,
            "overflow_y": null,
            "padding": null,
            "right": null,
            "top": null,
            "visibility": null,
            "width": null
          }
        },
        "49588e0f8ef24dd498ac06950a303f37": {
          "model_module": "@jupyter-widgets/controls",
          "model_module_version": "1.5.0",
          "model_name": "DescriptionStyleModel",
          "state": {
            "_model_module": "@jupyter-widgets/controls",
            "_model_module_version": "1.5.0",
            "_model_name": "DescriptionStyleModel",
            "_view_count": null,
            "_view_module": "@jupyter-widgets/base",
            "_view_module_version": "1.2.0",
            "_view_name": "StyleView",
            "description_width": ""
          }
        },
        "4a0062f973934e9fbf89c6ca968dfe83": {
          "model_module": "@jupyter-widgets/base",
          "model_module_version": "1.2.0",
          "model_name": "LayoutModel",
          "state": {
            "_model_module": "@jupyter-widgets/base",
            "_model_module_version": "1.2.0",
            "_model_name": "LayoutModel",
            "_view_count": null,
            "_view_module": "@jupyter-widgets/base",
            "_view_module_version": "1.2.0",
            "_view_name": "LayoutView",
            "align_content": null,
            "align_items": null,
            "align_self": null,
            "border": null,
            "bottom": null,
            "display": null,
            "flex": null,
            "flex_flow": null,
            "grid_area": null,
            "grid_auto_columns": null,
            "grid_auto_flow": null,
            "grid_auto_rows": null,
            "grid_column": null,
            "grid_gap": null,
            "grid_row": null,
            "grid_template_areas": null,
            "grid_template_columns": null,
            "grid_template_rows": null,
            "height": null,
            "justify_content": null,
            "justify_items": null,
            "left": null,
            "margin": null,
            "max_height": null,
            "max_width": null,
            "min_height": null,
            "min_width": null,
            "object_fit": null,
            "object_position": null,
            "order": null,
            "overflow": null,
            "overflow_x": null,
            "overflow_y": null,
            "padding": null,
            "right": null,
            "top": null,
            "visibility": null,
            "width": null
          }
        },
        "4a52f863c790491f80e20a3f6d8aafd4": {
          "model_module": "@jupyter-widgets/controls",
          "model_module_version": "1.5.0",
          "model_name": "DescriptionStyleModel",
          "state": {
            "_model_module": "@jupyter-widgets/controls",
            "_model_module_version": "1.5.0",
            "_model_name": "DescriptionStyleModel",
            "_view_count": null,
            "_view_module": "@jupyter-widgets/base",
            "_view_module_version": "1.2.0",
            "_view_name": "StyleView",
            "description_width": ""
          }
        },
        "506f8d311773429bb26ffdfa3c2269ec": {
          "model_module": "@jupyter-widgets/controls",
          "model_module_version": "1.5.0",
          "model_name": "HTMLModel",
          "state": {
            "_dom_classes": [],
            "_model_module": "@jupyter-widgets/controls",
            "_model_module_version": "1.5.0",
            "_model_name": "HTMLModel",
            "_view_count": null,
            "_view_module": "@jupyter-widgets/controls",
            "_view_module_version": "1.5.0",
            "_view_name": "HTMLView",
            "description": "",
            "description_tooltip": null,
            "layout": "IPY_MODEL_6e68226f05274e0e91a1b4f136ccea4c",
            "placeholder": "​",
            "style": "IPY_MODEL_f6066164e9a64937a86eea4fa13ffe37",
            "value": "config.json: 100%"
          }
        },
        "552c0b5b76bf4d449355cb331e57ce13": {
          "model_module": "@jupyter-widgets/controls",
          "model_module_version": "1.5.0",
          "model_name": "HBoxModel",
          "state": {
            "_dom_classes": [],
            "_model_module": "@jupyter-widgets/controls",
            "_model_module_version": "1.5.0",
            "_model_name": "HBoxModel",
            "_view_count": null,
            "_view_module": "@jupyter-widgets/controls",
            "_view_module_version": "1.5.0",
            "_view_name": "HBoxView",
            "box_style": "",
            "children": [
              "IPY_MODEL_11074fa6a34541469316161d97a7bd8c",
              "IPY_MODEL_761c9e013b464b698169fb7ef89ba36e",
              "IPY_MODEL_d772feeaf19844518de33cef3cbd0664"
            ],
            "layout": "IPY_MODEL_c86f2f7823f847fd9f1a2bffc49f69e2"
          }
        },
        "5f2874986a1e4cc1a1a2eb1431527400": {
          "model_module": "@jupyter-widgets/controls",
          "model_module_version": "1.5.0",
          "model_name": "ProgressStyleModel",
          "state": {
            "_model_module": "@jupyter-widgets/controls",
            "_model_module_version": "1.5.0",
            "_model_name": "ProgressStyleModel",
            "_view_count": null,
            "_view_module": "@jupyter-widgets/base",
            "_view_module_version": "1.2.0",
            "_view_name": "StyleView",
            "bar_color": null,
            "description_width": ""
          }
        },
        "6e68226f05274e0e91a1b4f136ccea4c": {
          "model_module": "@jupyter-widgets/base",
          "model_module_version": "1.2.0",
          "model_name": "LayoutModel",
          "state": {
            "_model_module": "@jupyter-widgets/base",
            "_model_module_version": "1.2.0",
            "_model_name": "LayoutModel",
            "_view_count": null,
            "_view_module": "@jupyter-widgets/base",
            "_view_module_version": "1.2.0",
            "_view_name": "LayoutView",
            "align_content": null,
            "align_items": null,
            "align_self": null,
            "border": null,
            "bottom": null,
            "display": null,
            "flex": null,
            "flex_flow": null,
            "grid_area": null,
            "grid_auto_columns": null,
            "grid_auto_flow": null,
            "grid_auto_rows": null,
            "grid_column": null,
            "grid_gap": null,
            "grid_row": null,
            "grid_template_areas": null,
            "grid_template_columns": null,
            "grid_template_rows": null,
            "height": null,
            "justify_content": null,
            "justify_items": null,
            "left": null,
            "margin": null,
            "max_height": null,
            "max_width": null,
            "min_height": null,
            "min_width": null,
            "object_fit": null,
            "object_position": null,
            "order": null,
            "overflow": null,
            "overflow_x": null,
            "overflow_y": null,
            "padding": null,
            "right": null,
            "top": null,
            "visibility": null,
            "width": null
          }
        },
        "70afdc8c323a4906b5b6f1b5abf25280": {
          "model_module": "@jupyter-widgets/controls",
          "model_module_version": "1.5.0",
          "model_name": "HBoxModel",
          "state": {
            "_dom_classes": [],
            "_model_module": "@jupyter-widgets/controls",
            "_model_module_version": "1.5.0",
            "_model_name": "HBoxModel",
            "_view_count": null,
            "_view_module": "@jupyter-widgets/controls",
            "_view_module_version": "1.5.0",
            "_view_name": "HBoxView",
            "box_style": "",
            "children": [
              "IPY_MODEL_9dcf056d0fb14f678a0fdd3acadd9d9b",
              "IPY_MODEL_00ad1659855549bb9ef11d41d03d168d",
              "IPY_MODEL_bbafbe3b736144a89930c155e5df52ca"
            ],
            "layout": "IPY_MODEL_0ffd5ae2cd924f4cb0b2987c2d845c76"
          }
        },
        "761c9e013b464b698169fb7ef89ba36e": {
          "model_module": "@jupyter-widgets/controls",
          "model_module_version": "1.5.0",
          "model_name": "FloatProgressModel",
          "state": {
            "_dom_classes": [],
            "_model_module": "@jupyter-widgets/controls",
            "_model_module_version": "1.5.0",
            "_model_name": "FloatProgressModel",
            "_view_count": null,
            "_view_module": "@jupyter-widgets/controls",
            "_view_module_version": "1.5.0",
            "_view_name": "ProgressView",
            "bar_style": "success",
            "description": "",
            "description_tooltip": null,
            "layout": "IPY_MODEL_8ee3a74d406147a68e9f002dd37954b3",
            "max": 160,
            "min": 0,
            "orientation": "horizontal",
            "style": "IPY_MODEL_d13273f0274444f69e6278c805730cfb",
            "value": 160
          }
        },
        "7901f7af022e4dbdab34a4a4a3bca2c5": {
          "model_module": "@jupyter-widgets/base",
          "model_module_version": "1.2.0",
          "model_name": "LayoutModel",
          "state": {
            "_model_module": "@jupyter-widgets/base",
            "_model_module_version": "1.2.0",
            "_model_name": "LayoutModel",
            "_view_count": null,
            "_view_module": "@jupyter-widgets/base",
            "_view_module_version": "1.2.0",
            "_view_name": "LayoutView",
            "align_content": null,
            "align_items": null,
            "align_self": null,
            "border": null,
            "bottom": null,
            "display": null,
            "flex": null,
            "flex_flow": null,
            "grid_area": null,
            "grid_auto_columns": null,
            "grid_auto_flow": null,
            "grid_auto_rows": null,
            "grid_column": null,
            "grid_gap": null,
            "grid_row": null,
            "grid_template_areas": null,
            "grid_template_columns": null,
            "grid_template_rows": null,
            "height": null,
            "justify_content": null,
            "justify_items": null,
            "left": null,
            "margin": null,
            "max_height": null,
            "max_width": null,
            "min_height": null,
            "min_width": null,
            "object_fit": null,
            "object_position": null,
            "order": null,
            "overflow": null,
            "overflow_x": null,
            "overflow_y": null,
            "padding": null,
            "right": null,
            "top": null,
            "visibility": null,
            "width": null
          }
        },
        "82cb1e08f13641c88cdc348c1aa9a29e": {
          "model_module": "@jupyter-widgets/base",
          "model_module_version": "1.2.0",
          "model_name": "LayoutModel",
          "state": {
            "_model_module": "@jupyter-widgets/base",
            "_model_module_version": "1.2.0",
            "_model_name": "LayoutModel",
            "_view_count": null,
            "_view_module": "@jupyter-widgets/base",
            "_view_module_version": "1.2.0",
            "_view_name": "LayoutView",
            "align_content": null,
            "align_items": null,
            "align_self": null,
            "border": null,
            "bottom": null,
            "display": null,
            "flex": null,
            "flex_flow": null,
            "grid_area": null,
            "grid_auto_columns": null,
            "grid_auto_flow": null,
            "grid_auto_rows": null,
            "grid_column": null,
            "grid_gap": null,
            "grid_row": null,
            "grid_template_areas": null,
            "grid_template_columns": null,
            "grid_template_rows": null,
            "height": null,
            "justify_content": null,
            "justify_items": null,
            "left": null,
            "margin": null,
            "max_height": null,
            "max_width": null,
            "min_height": null,
            "min_width": null,
            "object_fit": null,
            "object_position": null,
            "order": null,
            "overflow": null,
            "overflow_x": null,
            "overflow_y": null,
            "padding": null,
            "right": null,
            "top": null,
            "visibility": null,
            "width": null
          }
        },
        "8da1c851661f49a7ab5e67925e9b36f5": {
          "model_module": "@jupyter-widgets/controls",
          "model_module_version": "1.5.0",
          "model_name": "FloatProgressModel",
          "state": {
            "_dom_classes": [],
            "_model_module": "@jupyter-widgets/controls",
            "_model_module_version": "1.5.0",
            "_model_name": "FloatProgressModel",
            "_view_count": null,
            "_view_module": "@jupyter-widgets/controls",
            "_view_module_version": "1.5.0",
            "_view_name": "ProgressView",
            "bar_style": "",
            "description": "",
            "description_tooltip": null,
            "layout": "IPY_MODEL_429cc4a2e49e412bb949bb018215897a",
            "max": 1,
            "min": 0,
            "orientation": "horizontal",
            "style": "IPY_MODEL_1872d3b914294a71a40cad8fabe22ace",
            "value": 0.8521381274231556
          }
        },
        "8ee3a74d406147a68e9f002dd37954b3": {
          "model_module": "@jupyter-widgets/base",
          "model_module_version": "1.2.0",
          "model_name": "LayoutModel",
          "state": {
            "_model_module": "@jupyter-widgets/base",
            "_model_module_version": "1.2.0",
            "_model_name": "LayoutModel",
            "_view_count": null,
            "_view_module": "@jupyter-widgets/base",
            "_view_module_version": "1.2.0",
            "_view_name": "LayoutView",
            "align_content": null,
            "align_items": null,
            "align_self": null,
            "border": null,
            "bottom": null,
            "display": null,
            "flex": null,
            "flex_flow": null,
            "grid_area": null,
            "grid_auto_columns": null,
            "grid_auto_flow": null,
            "grid_auto_rows": null,
            "grid_column": null,
            "grid_gap": null,
            "grid_row": null,
            "grid_template_areas": null,
            "grid_template_columns": null,
            "grid_template_rows": null,
            "height": null,
            "justify_content": null,
            "justify_items": null,
            "left": null,
            "margin": null,
            "max_height": null,
            "max_width": null,
            "min_height": null,
            "min_width": null,
            "object_fit": null,
            "object_position": null,
            "order": null,
            "overflow": null,
            "overflow_x": null,
            "overflow_y": null,
            "padding": null,
            "right": null,
            "top": null,
            "visibility": null,
            "width": null
          }
        },
        "9d4041850e8541d896c474e8eabc18ee": {
          "model_module": "@jupyter-widgets/base",
          "model_module_version": "1.2.0",
          "model_name": "LayoutModel",
          "state": {
            "_model_module": "@jupyter-widgets/base",
            "_model_module_version": "1.2.0",
            "_model_name": "LayoutModel",
            "_view_count": null,
            "_view_module": "@jupyter-widgets/base",
            "_view_module_version": "1.2.0",
            "_view_name": "LayoutView",
            "align_content": null,
            "align_items": null,
            "align_self": null,
            "border": null,
            "bottom": null,
            "display": null,
            "flex": null,
            "flex_flow": null,
            "grid_area": null,
            "grid_auto_columns": null,
            "grid_auto_flow": null,
            "grid_auto_rows": null,
            "grid_column": null,
            "grid_gap": null,
            "grid_row": null,
            "grid_template_areas": null,
            "grid_template_columns": null,
            "grid_template_rows": null,
            "height": null,
            "justify_content": null,
            "justify_items": null,
            "left": null,
            "margin": null,
            "max_height": null,
            "max_width": null,
            "min_height": null,
            "min_width": null,
            "object_fit": null,
            "object_position": null,
            "order": null,
            "overflow": null,
            "overflow_x": null,
            "overflow_y": null,
            "padding": null,
            "right": null,
            "top": null,
            "visibility": null,
            "width": null
          }
        },
        "9dcf056d0fb14f678a0fdd3acadd9d9b": {
          "model_module": "@jupyter-widgets/controls",
          "model_module_version": "1.5.0",
          "model_name": "HTMLModel",
          "state": {
            "_dom_classes": [],
            "_model_module": "@jupyter-widgets/controls",
            "_model_module_version": "1.5.0",
            "_model_name": "HTMLModel",
            "_view_count": null,
            "_view_module": "@jupyter-widgets/controls",
            "_view_module_version": "1.5.0",
            "_view_name": "HTMLView",
            "description": "",
            "description_tooltip": null,
            "layout": "IPY_MODEL_4a0062f973934e9fbf89c6ca968dfe83",
            "placeholder": "​",
            "style": "IPY_MODEL_4a52f863c790491f80e20a3f6d8aafd4",
            "value": "model.safetensors: 100%"
          }
        },
        "a8d558aa8da448d79cf1a417446a37d1": {
          "model_module": "@jupyter-widgets/base",
          "model_module_version": "1.2.0",
          "model_name": "LayoutModel",
          "state": {
            "_model_module": "@jupyter-widgets/base",
            "_model_module_version": "1.2.0",
            "_model_name": "LayoutModel",
            "_view_count": null,
            "_view_module": "@jupyter-widgets/base",
            "_view_module_version": "1.2.0",
            "_view_name": "LayoutView",
            "align_content": null,
            "align_items": null,
            "align_self": null,
            "border": null,
            "bottom": null,
            "display": null,
            "flex": null,
            "flex_flow": null,
            "grid_area": null,
            "grid_auto_columns": null,
            "grid_auto_flow": null,
            "grid_auto_rows": null,
            "grid_column": null,
            "grid_gap": null,
            "grid_row": null,
            "grid_template_areas": null,
            "grid_template_columns": null,
            "grid_template_rows": null,
            "height": null,
            "justify_content": null,
            "justify_items": null,
            "left": null,
            "margin": null,
            "max_height": null,
            "max_width": null,
            "min_height": null,
            "min_width": null,
            "object_fit": null,
            "object_position": null,
            "order": null,
            "overflow": null,
            "overflow_x": null,
            "overflow_y": null,
            "padding": null,
            "right": null,
            "top": null,
            "visibility": null,
            "width": null
          }
        },
        "ac25bb512f854cd2a6cd0206b85248c4": {
          "model_module": "@jupyter-widgets/controls",
          "model_module_version": "1.5.0",
          "model_name": "HTMLModel",
          "state": {
            "_dom_classes": [],
            "_model_module": "@jupyter-widgets/controls",
            "_model_module_version": "1.5.0",
            "_model_name": "HTMLModel",
            "_view_count": null,
            "_view_module": "@jupyter-widgets/controls",
            "_view_module_version": "1.5.0",
            "_view_name": "HTMLView",
            "description": "",
            "description_tooltip": null,
            "layout": "IPY_MODEL_1e252f6ea9c341fba01a122424fb81f3",
            "placeholder": "​",
            "style": "IPY_MODEL_3df29353e25345b4baf480c8e4778a86",
            "value": " 69.7k/69.7k [00:00&lt;00:00, 4.56MB/s]"
          }
        },
        "b3bad6ec1f2f454d82ee61fc5cd5643b": {
          "model_module": "@jupyter-widgets/controls",
          "model_module_version": "1.5.0",
          "model_name": "HBoxModel",
          "state": {
            "_dom_classes": [],
            "_model_module": "@jupyter-widgets/controls",
            "_model_module_version": "1.5.0",
            "_model_name": "HBoxModel",
            "_view_count": null,
            "_view_module": "@jupyter-widgets/controls",
            "_view_module_version": "1.5.0",
            "_view_name": "HBoxView",
            "box_style": "",
            "children": [
              "IPY_MODEL_506f8d311773429bb26ffdfa3c2269ec",
              "IPY_MODEL_07b7a08a897a4fcf93cf7987175c83ae",
              "IPY_MODEL_ac25bb512f854cd2a6cd0206b85248c4"
            ],
            "layout": "IPY_MODEL_a8d558aa8da448d79cf1a417446a37d1"
          }
        },
        "bbafbe3b736144a89930c155e5df52ca": {
          "model_module": "@jupyter-widgets/controls",
          "model_module_version": "1.5.0",
          "model_name": "HTMLModel",
          "state": {
            "_dom_classes": [],
            "_model_module": "@jupyter-widgets/controls",
            "_model_module_version": "1.5.0",
            "_model_name": "HTMLModel",
            "_view_count": null,
            "_view_module": "@jupyter-widgets/controls",
            "_view_module_version": "1.5.0",
            "_view_name": "HTMLView",
            "description": "",
            "description_tooltip": null,
            "layout": "IPY_MODEL_bd011013e8124060bed3e3d2e24d7b65",
            "placeholder": "​",
            "style": "IPY_MODEL_49588e0f8ef24dd498ac06950a303f37",
            "value": " 346M/346M [00:01&lt;00:00, 212MB/s]"
          }
        },
        "bd011013e8124060bed3e3d2e24d7b65": {
          "model_module": "@jupyter-widgets/base",
          "model_module_version": "1.2.0",
          "model_name": "LayoutModel",
          "state": {
            "_model_module": "@jupyter-widgets/base",
            "_model_module_version": "1.2.0",
            "_model_name": "LayoutModel",
            "_view_count": null,
            "_view_module": "@jupyter-widgets/base",
            "_view_module_version": "1.2.0",
            "_view_name": "LayoutView",
            "align_content": null,
            "align_items": null,
            "align_self": null,
            "border": null,
            "bottom": null,
            "display": null,
            "flex": null,
            "flex_flow": null,
            "grid_area": null,
            "grid_auto_columns": null,
            "grid_auto_flow": null,
            "grid_auto_rows": null,
            "grid_column": null,
            "grid_gap": null,
            "grid_row": null,
            "grid_template_areas": null,
            "grid_template_columns": null,
            "grid_template_rows": null,
            "height": null,
            "justify_content": null,
            "justify_items": null,
            "left": null,
            "margin": null,
            "max_height": null,
            "max_width": null,
            "min_height": null,
            "min_width": null,
            "object_fit": null,
            "object_position": null,
            "order": null,
            "overflow": null,
            "overflow_x": null,
            "overflow_y": null,
            "padding": null,
            "right": null,
            "top": null,
            "visibility": null,
            "width": null
          }
        },
        "c29b7fd30e3c40788477d7c2bc7665be": {
          "model_module": "@jupyter-widgets/base",
          "model_module_version": "1.2.0",
          "model_name": "LayoutModel",
          "state": {
            "_model_module": "@jupyter-widgets/base",
            "_model_module_version": "1.2.0",
            "_model_name": "LayoutModel",
            "_view_count": null,
            "_view_module": "@jupyter-widgets/base",
            "_view_module_version": "1.2.0",
            "_view_name": "LayoutView",
            "align_content": null,
            "align_items": null,
            "align_self": null,
            "border": null,
            "bottom": null,
            "display": null,
            "flex": null,
            "flex_flow": null,
            "grid_area": null,
            "grid_auto_columns": null,
            "grid_auto_flow": null,
            "grid_auto_rows": null,
            "grid_column": null,
            "grid_gap": null,
            "grid_row": null,
            "grid_template_areas": null,
            "grid_template_columns": null,
            "grid_template_rows": null,
            "height": null,
            "justify_content": null,
            "justify_items": null,
            "left": null,
            "margin": null,
            "max_height": null,
            "max_width": null,
            "min_height": null,
            "min_width": null,
            "object_fit": null,
            "object_position": null,
            "order": null,
            "overflow": null,
            "overflow_x": null,
            "overflow_y": null,
            "padding": null,
            "right": null,
            "top": null,
            "visibility": null,
            "width": null
          }
        },
        "c86f2f7823f847fd9f1a2bffc49f69e2": {
          "model_module": "@jupyter-widgets/base",
          "model_module_version": "1.2.0",
          "model_name": "LayoutModel",
          "state": {
            "_model_module": "@jupyter-widgets/base",
            "_model_module_version": "1.2.0",
            "_model_name": "LayoutModel",
            "_view_count": null,
            "_view_module": "@jupyter-widgets/base",
            "_view_module_version": "1.2.0",
            "_view_name": "LayoutView",
            "align_content": null,
            "align_items": null,
            "align_self": null,
            "border": null,
            "bottom": null,
            "display": null,
            "flex": null,
            "flex_flow": null,
            "grid_area": null,
            "grid_auto_columns": null,
            "grid_auto_flow": null,
            "grid_auto_rows": null,
            "grid_column": null,
            "grid_gap": null,
            "grid_row": null,
            "grid_template_areas": null,
            "grid_template_columns": null,
            "grid_template_rows": null,
            "height": null,
            "justify_content": null,
            "justify_items": null,
            "left": null,
            "margin": null,
            "max_height": null,
            "max_width": null,
            "min_height": null,
            "min_width": null,
            "object_fit": null,
            "object_position": null,
            "order": null,
            "overflow": null,
            "overflow_x": null,
            "overflow_y": null,
            "padding": null,
            "right": null,
            "top": null,
            "visibility": null,
            "width": null
          }
        },
        "d09c9e438fb84feba8e4a68776a43746": {
          "model_module": "@jupyter-widgets/controls",
          "model_module_version": "1.5.0",
          "model_name": "DescriptionStyleModel",
          "state": {
            "_model_module": "@jupyter-widgets/controls",
            "_model_module_version": "1.5.0",
            "_model_name": "DescriptionStyleModel",
            "_view_count": null,
            "_view_module": "@jupyter-widgets/base",
            "_view_module_version": "1.2.0",
            "_view_name": "StyleView",
            "description_width": ""
          }
        },
        "d13273f0274444f69e6278c805730cfb": {
          "model_module": "@jupyter-widgets/controls",
          "model_module_version": "1.5.0",
          "model_name": "ProgressStyleModel",
          "state": {
            "_model_module": "@jupyter-widgets/controls",
            "_model_module_version": "1.5.0",
            "_model_name": "ProgressStyleModel",
            "_view_count": null,
            "_view_module": "@jupyter-widgets/base",
            "_view_module_version": "1.2.0",
            "_view_name": "StyleView",
            "bar_color": null,
            "description_width": ""
          }
        },
        "d772feeaf19844518de33cef3cbd0664": {
          "model_module": "@jupyter-widgets/controls",
          "model_module_version": "1.5.0",
          "model_name": "HTMLModel",
          "state": {
            "_dom_classes": [],
            "_model_module": "@jupyter-widgets/controls",
            "_model_module_version": "1.5.0",
            "_model_name": "HTMLModel",
            "_view_count": null,
            "_view_module": "@jupyter-widgets/controls",
            "_view_module_version": "1.5.0",
            "_view_name": "HTMLView",
            "description": "",
            "description_tooltip": null,
            "layout": "IPY_MODEL_07a2e51c017e47f183f7618d5eb2bd0f",
            "placeholder": "​",
            "style": "IPY_MODEL_d09c9e438fb84feba8e4a68776a43746",
            "value": " 160/160 [00:00&lt;00:00, 10.8kB/s]"
          }
        },
        "d8b25f97ff07450aa877f5ca5ab8bca0": {
          "model_module": "@jupyter-widgets/controls",
          "model_module_version": "1.5.0",
          "model_name": "DescriptionStyleModel",
          "state": {
            "_model_module": "@jupyter-widgets/controls",
            "_model_module_version": "1.5.0",
            "_model_name": "DescriptionStyleModel",
            "_view_count": null,
            "_view_module": "@jupyter-widgets/base",
            "_view_module_version": "1.2.0",
            "_view_name": "StyleView",
            "description_width": ""
          }
        },
        "dd6921d47f044ea5a0becb2f5f4dfdb3": {
          "model_module": "@jupyter-widgets/base",
          "model_module_version": "1.2.0",
          "model_name": "LayoutModel",
          "state": {
            "_model_module": "@jupyter-widgets/base",
            "_model_module_version": "1.2.0",
            "_model_name": "LayoutModel",
            "_view_count": null,
            "_view_module": "@jupyter-widgets/base",
            "_view_module_version": "1.2.0",
            "_view_name": "LayoutView",
            "align_content": null,
            "align_items": null,
            "align_self": null,
            "border": null,
            "bottom": null,
            "display": null,
            "flex": null,
            "flex_flow": null,
            "grid_area": null,
            "grid_auto_columns": null,
            "grid_auto_flow": null,
            "grid_auto_rows": null,
            "grid_column": null,
            "grid_gap": null,
            "grid_row": null,
            "grid_template_areas": null,
            "grid_template_columns": null,
            "grid_template_rows": null,
            "height": null,
            "justify_content": null,
            "justify_items": null,
            "left": null,
            "margin": null,
            "max_height": null,
            "max_width": null,
            "min_height": null,
            "min_width": null,
            "object_fit": null,
            "object_position": null,
            "order": null,
            "overflow": null,
            "overflow_x": null,
            "overflow_y": null,
            "padding": null,
            "right": null,
            "top": null,
            "visibility": null,
            "width": null
          }
        },
        "de1a4f8253d84903810f34fa60ce3340": {
          "model_module": "@jupyter-widgets/controls",
          "model_module_version": "1.5.0",
          "model_name": "DescriptionStyleModel",
          "state": {
            "_model_module": "@jupyter-widgets/controls",
            "_model_module_version": "1.5.0",
            "_model_name": "DescriptionStyleModel",
            "_view_count": null,
            "_view_module": "@jupyter-widgets/base",
            "_view_module_version": "1.2.0",
            "_view_name": "StyleView",
            "description_width": ""
          }
        },
        "f6066164e9a64937a86eea4fa13ffe37": {
          "model_module": "@jupyter-widgets/controls",
          "model_module_version": "1.5.0",
          "model_name": "DescriptionStyleModel",
          "state": {
            "_model_module": "@jupyter-widgets/controls",
            "_model_module_version": "1.5.0",
            "_model_name": "DescriptionStyleModel",
            "_view_count": null,
            "_view_module": "@jupyter-widgets/base",
            "_view_module_version": "1.2.0",
            "_view_name": "StyleView",
            "description_width": ""
          }
        },
        "f922977295cd4253ac3c0c085e43f714": {
          "model_module": "@jupyter-widgets/controls",
          "model_module_version": "1.5.0",
          "model_name": "ProgressStyleModel",
          "state": {
            "_model_module": "@jupyter-widgets/controls",
            "_model_module_version": "1.5.0",
            "_model_name": "ProgressStyleModel",
            "_view_count": null,
            "_view_module": "@jupyter-widgets/base",
            "_view_module_version": "1.2.0",
            "_view_name": "StyleView",
            "bar_color": null,
            "description_width": ""
          }
        }
      }
    }
  },
  "nbformat": 4,
  "nbformat_minor": 0
}
